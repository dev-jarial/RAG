{
 "cells": [
  {
   "cell_type": "code",
   "execution_count": null,
   "metadata": {},
   "outputs": [],
   "source": [
    "import base64\n",
    "import os\n",
    "import requests\n",
    "\n",
    "engine_id = \"stable-diffusion-v1-6\"\n",
    "api_host = os.getenv('API_HOST', 'https://api.stability.ai')\n",
    "api_key = os.getenv(\"STABILITY_API_KEY\", \"sk-f2fUNNsB4nWia1bkjppO4dGKgn7gYvieInh0AUnzLI6NagSZ\")\n",
    "\n",
    "if api_key is None:\n",
    "    raise Exception(\"Missing Stability API key.\")\n",
    "\n",
    "response = requests.post(\n",
    "    f\"{api_host}/v1/generation/{engine_id}/text-to-image\",\n",
    "    headers={\n",
    "        \"Content-Type\": \"application/json\",\n",
    "        \"Accept\": \"application/json\",\n",
    "        \"Authorization\": f\"Bearer {api_key}\"\n",
    "    },\n",
    "    json={\n",
    "        \"text_prompts\": [\n",
    "            {\n",
    "                \"text\": \"A lighthouse on a cliff\"\n",
    "            }\n",
    "        ],\n",
    "        \"cfg_scale\": 7,\n",
    "        \"height\": 1024,\n",
    "        \"width\": 1024,\n",
    "        \"samples\": 1,\n",
    "        \"steps\": 30,\n",
    "    },\n",
    ")\n",
    "\n",
    "if response.status_code != 200:\n",
    "    raise Exception(\"Non-200 response: \" + str(response.text))\n",
    "\n",
    "data = response.json()"
   ]
  },
  {
   "cell_type": "code",
   "execution_count": null,
   "metadata": {},
   "outputs": [],
   "source": [
    "for i, image in enumerate(data[\"artifacts\"]):\n",
    "    with open(f\"v1_txt2img_{i}.png\", \"wb\") as f:\n",
    "        f.write(base64.b64decode(image[\"base64\"]))\n"
   ]
  }
 ],
 "metadata": {
  "language_info": {
   "name": "python"
  }
 },
 "nbformat": 4,
 "nbformat_minor": 2
}
